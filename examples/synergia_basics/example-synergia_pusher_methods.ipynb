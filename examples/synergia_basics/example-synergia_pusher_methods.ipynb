{
 "cells": [
  {
   "cell_type": "markdown",
   "metadata": {},
   "source": [
    "# Example for Switching Tracking Methods\n",
    "This notebook shows how to <a href='#push'> switch particle push methods in Synergia </a>. It mostly deals with the mechanics of how to change the push type (called extractor_type in the code). It does not elaborate on how the different pusher types operate."
   ]
  },
  {
   "cell_type": "code",
   "execution_count": 1,
   "metadata": {},
   "outputs": [
    {
     "name": "stderr",
     "output_type": "stream",
     "text": [
      "/home/vagrant/.pyenv/versions/py2/lib/python2.7/site-packages/h5py/__init__.py:36: FutureWarning: Conversion of the second argument of issubdtype from `float` to `np.floating` is deprecated. In future, it will be treated as `np.float64 == np.dtype(float).type`.\n",
      "  from ._conv import register_converters as _register_converters\n"
     ]
    }
   ],
   "source": [
    "import numpy as np\n",
    "import matplotlib.pyplot as plt\n",
    "import h5py as h5"
   ]
  },
  {
   "cell_type": "code",
   "execution_count": 2,
   "metadata": {},
   "outputs": [],
   "source": [
    "import synergia"
   ]
  },
  {
   "cell_type": "code",
   "execution_count": 3,
   "metadata": {},
   "outputs": [],
   "source": [
    "comm = synergia.utils.Commxx()"
   ]
  },
  {
   "cell_type": "markdown",
   "metadata": {},
   "source": [
    "Test of stepper tracking methods. Built from fodo_simple2 example in Synergia."
   ]
  },
  {
   "cell_type": "markdown",
   "metadata": {},
   "source": [
    "# Lattices\n",
    "### (Example Setup)"
   ]
  },
  {
   "cell_type": "code",
   "execution_count": 4,
   "metadata": {},
   "outputs": [],
   "source": [
    "# Set the lattice element parameters\n",
    "focus_length = 7  # meters\n",
    "quad_sep = 10  # meters\n",
    "quad_length = 2.0  # meters\n",
    "strength = 1.0 / (focus_length * quad_length)  # 1/meters^2\n",
    "\n",
    "o = synergia.lattice.Lattice_element(\"drift\", \"o\")\n",
    "o.set_double_attribute(\"l\", quad_sep - quad_length)\n",
    "f = synergia.lattice.Lattice_element(\"quadrupole\", \"f\")\n",
    "f.set_double_attribute(\"l\", quad_length)\n",
    "f.set_double_attribute(\"k1\", strength)\n",
    "d = synergia.lattice.Lattice_element(\"quadrupole\", \"d\")\n",
    "d.set_double_attribute(\"l\", quad_length)\n",
    "d.set_double_attribute(\"k1\", -strength)\n",
    "lattice = synergia.lattice.Lattice(\"fodo\", synergia.lattice.MadX_adaptor_map())\n",
    "\n",
    "lattice.append(f)\n",
    "lattice.append(o)\n",
    "lattice.append(d)\n",
    "lattice.append(o)\n",
    "\n",
    "lattice_t2 = lattice\n",
    "s = synergia.lattice.Lattice_element(\"sextupole\", \"s\")\n",
    "s.set_double_attribute(\"l\", 0.0)\n",
    "s.set_double_attribute(\"k2\", 8.0)\n",
    "lattice_t2.append(s)"
   ]
  },
  {
   "cell_type": "markdown",
   "metadata": {},
   "source": [
    "# Stepper \n",
    "### (Example Setup)"
   ]
  },
  {
   "cell_type": "code",
   "execution_count": 5,
   "metadata": {},
   "outputs": [],
   "source": [
    "# Define a reference particle\n",
    "total_energy = 1.5  # GeV\n",
    "four_momentum = synergia.foundation.Four_momentum(synergia.foundation.pconstants.proton_mass, total_energy)\n",
    "reference_particle = synergia.foundation.Reference_particle(synergia.foundation.pconstants.proton_charge,\n",
    "                                        four_momentum)\n",
    "lattice.set_reference_particle(reference_particle)\n",
    "lattice_t2.set_reference_particle(reference_particle)"
   ]
  },
  {
   "cell_type": "code",
   "execution_count": 6,
   "metadata": {},
   "outputs": [],
   "source": [
    "# Define a set of simulation steps\n",
    "\n",
    "map_order = 1\n",
    "steps_per_element = 4\n",
    "stepper = synergia.simulation.Independent_stepper(lattice, map_order, steps_per_element)"
   ]
  },
  {
   "cell_type": "markdown",
   "metadata": {},
   "source": [
    "# Specifying Particle Push Type <a id='push'> </a>"
   ]
  },
  {
   "cell_type": "markdown",
   "metadata": {},
   "source": [
    "To explicity specify the particle push type you must set the `extractor_type` attribute for each element in the lattice.\n",
    "\n",
    "There are three options for particle push setting the two most commonly used options are `chef_propagate` or `chef_map`. A third setting `chef_mixed` will use maps for all elements except for rf cavities. The default if nothing is set by the user is `chef_propagate`. (`default` is also a valid value for `extractor_type` right now and does just set the extractor to `chef_propagate`)\n",
    "\n",
    "To set all elements explicitly to one or other push you can cycle through the lattice elemnents in the `synergia.lattice.Lattice` object you are using."
   ]
  },
  {
   "cell_type": "code",
   "execution_count": 22,
   "metadata": {},
   "outputs": [
    {
     "name": "stdout",
     "output_type": "stream",
     "text": [
      "f extractor_type: chef_map\n",
      "o extractor_type: chef_map\n",
      "d extractor_type: chef_map\n",
      "o extractor_type: chef_map\n",
      "s extractor_type: chef_map\n"
     ]
    }
   ],
   "source": [
    "# Use chef_map for all elements\n",
    "extractor_type = \"chef_map\"\n",
    "for elem in lattice_t2.get_elements():\n",
    "    elem.set_string_attribute(\"extractor_type\", extractor_type)\n",
    "    print(\"{} extractor_type: {}\").format(elem.get_name(), elem.get_string_attribute(\"extractor_type\"))"
   ]
  },
  {
   "cell_type": "markdown",
   "metadata": {},
   "source": [
    "Common, useful ways to select specific elements to have a particular push:\n",
    "- By name\n",
    "- By type"
   ]
  },
  {
   "cell_type": "code",
   "execution_count": 23,
   "metadata": {},
   "outputs": [],
   "source": [
    "# Select specific elements to switch to chef_propagate\n",
    "use_chef_propagate = False\n",
    "\n",
    "if use_chef_propagate:\n",
    "    for elem in lattice_t2.get_elements():\n",
    "        if elem.get_type() == \"sextupole\":\n",
    "            elem.set_string_attribute(\"extractor_type\", \"chef_propagate\")\n",
    "            print(\"Changed Sextupole extractor\")\n",
    "            print(\"{} extractor_type: {}\").format(elem.get_name(), elem.get_string_attribute(\"extractor_type\"))\n",
    "        elif elem.get_name() == \"d\":\n",
    "            elem.set_string_attribute(\"extractor_type\", \"chef_propagate\")\n",
    "            print (\"Changed Quadrupole extractor\")\n",
    "            print(\"{} extractor_type: {}\").format(elem.get_name(), elem.get_string_attribute(\"extractor_type\"))"
   ]
  },
  {
   "cell_type": "markdown",
   "metadata": {},
   "source": [
    "A global map order is set when the stepper object `synergia.simulation.Independent_stepper` is created. This will apply to any element that has had `extractor_type` set to `chef_map` or any non-rf element with type `chef_map`, prior to calling `propagator.propagate`. For elements with type `chef_propagate` the `map_order` setting has no effect.\n",
    "\n",
    "The map order should be an integer such that 0 < map_order < 5"
   ]
  },
  {
   "cell_type": "code",
   "execution_count": 9,
   "metadata": {},
   "outputs": [],
   "source": [
    "map_order = 1\n",
    "steps_per_element = 4\n",
    "stepper_t2 = synergia.simulation.Independent_stepper(lattice_t2, map_order, steps_per_element)"
   ]
  },
  {
   "cell_type": "markdown",
   "metadata": {},
   "source": [
    "A copy of the lattice being used by the instantiated stepper can also be obtained from a stepper's `lattice_simulator` by calling `stepper.get_lattice_simulator().get_lattice()`"
   ]
  },
  {
   "cell_type": "code",
   "execution_count": 10,
   "metadata": {},
   "outputs": [
    {
     "name": "stdout",
     "output_type": "stream",
     "text": [
      "f\n",
      "{'extractor_type': 'chef_propagate'}\n",
      "{'k1': 0.07142857142857142, 'l': 2.0}\n",
      "\n",
      "o\n",
      "{'extractor_type': 'chef_propagate'}\n",
      "{'l': 8.0}\n",
      "\n",
      "d\n",
      "{'extractor_type': 'chef_propagate'}\n",
      "{'k1': -0.07142857142857142, 'l': 2.0}\n",
      "\n",
      "o\n",
      "{'extractor_type': 'chef_propagate'}\n",
      "{'l': 8.0}\n",
      "\n",
      "s\n",
      "{'extractor_type': 'chef_propagate'}\n",
      "{'k2': 8.0, 'l': 0.0}\n",
      "\n"
     ]
    }
   ],
   "source": [
    "# Check properties of the lattice that we have set\n",
    "for elem in stepper_t2.get_lattice_simulator().get_lattice().get_elements():\n",
    "    print elem.get_name()\n",
    "    print elem.get_string_attributes()\n",
    "    print elem.get_double_attributes()\n",
    "    print "
   ]
  },
  {
   "cell_type": "markdown",
   "metadata": {},
   "source": [
    "# Bunch\n",
    "### (Example Setup)"
   ]
  },
  {
   "cell_type": "code",
   "execution_count": 11,
   "metadata": {},
   "outputs": [],
   "source": [
    "# Define a bunch\n",
    "x_emit = 1.0e-6  # m-rad, RMS\n",
    "y_emit = 1.0e-6  # m-rad, RMS\n",
    "z_std = 0.01  # m\n",
    "dpop = 1.0e-4  # unitless, RMS \\frac{\\delta p}{p_{tot}}\n",
    "real_particles = 1.2e12  # unitless, meaningless in this simulation\n",
    "                         #           without collective effects\n",
    "macro_particles = 2\n",
    "seed = 123456  # random number seed; 0 for automatic calculation (GSL)\n",
    "bunch = synergia.optics.generate_matched_bunch_transverse(\n",
    "              stepper.get_lattice_simulator(),\n",
    "              x_emit, y_emit, z_std, dpop,\n",
    "              real_particles, macro_particles,\n",
    "              seed=seed)\n",
    "# Define a bunch simulator\n",
    "bunch_simulator = synergia.simulation.Bunch_simulator(bunch)"
   ]
  },
  {
   "cell_type": "markdown",
   "metadata": {},
   "source": [
    "# Diagnostics\n",
    "### (Example Setup)"
   ]
  },
  {
   "cell_type": "code",
   "execution_count": 12,
   "metadata": {},
   "outputs": [],
   "source": [
    "# Define a set of bunch diagnostics\n",
    "# Apply basic diagnostics every step\n",
    "diagnostics = synergia.bunch.Diagnostics_basic(\"diagnostics.h5\")\n",
    "bunch_simulator.add_per_step(diagnostics)"
   ]
  },
  {
   "cell_type": "code",
   "execution_count": 13,
   "metadata": {},
   "outputs": [],
   "source": [
    "turnsPerDiag = 1\n",
    "ptcl_id = 0\n",
    "out_dir = \".\"\n",
    "particlediag = synergia.bunch.Diagnostics_track(\"particles.h5\", ptcl_id, out_dir)\n",
    "bunch_simulator.add_per_turn(particlediag, turnsPerDiag)"
   ]
  },
  {
   "cell_type": "markdown",
   "metadata": {},
   "source": [
    "# Run"
   ]
  },
  {
   "cell_type": "code",
   "execution_count": 14,
   "metadata": {},
   "outputs": [],
   "source": [
    "# Perform the simulation\n",
    "propagator = synergia.simulation.Propagator(stepper_t2)\n",
    "turns = 250  # a single pass through the line, since this isn't a ring\n",
    "max_turns = 0 # Number of turns to run before writing checkpoint and stopping\n",
    "              # When max_turns is 0, the simulation continues until the end.\n",
    "verbosity = 2  # Display information about each simulation step\n",
    "propagator.propagate(bunch_simulator, turns, max_turns, verbosity)"
   ]
  },
  {
   "cell_type": "markdown",
   "metadata": {},
   "source": [
    "# Analysis"
   ]
  },
  {
   "cell_type": "code",
   "execution_count": 15,
   "metadata": {},
   "outputs": [],
   "source": [
    "particles = bunch.get_local_particles()"
   ]
  },
  {
   "cell_type": "code",
   "execution_count": 16,
   "metadata": {},
   "outputs": [],
   "source": [
    "# end coordiantes x and xp for particle 0 using chef_propagate for quad:d and sextupole:s, all other elements map of order 1\n",
    "chef_coord = np.array([-0.00394874, -0.00015307])"
   ]
  },
  {
   "cell_type": "code",
   "execution_count": 17,
   "metadata": {},
   "outputs": [
    {
     "name": "stdout",
     "output_type": "stream",
     "text": [
      "[-5.93492884e-08 -6.60869555e-09]\n"
     ]
    }
   ],
   "source": [
    "print chef_coord - particles[0, :2]"
   ]
  },
  {
   "cell_type": "code",
   "execution_count": 18,
   "metadata": {},
   "outputs": [],
   "source": [
    "# Comparison of chef_propagate and using map of given order for all elements\n",
    "# order  chef_coord - coordinate_order\n",
    "# 1      [-0.000399    0.00024177]\n",
    "# 2      [9.89358251e-09 2.87187812e-09]\n",
    "# 3      [-8.17915677e-08 -9.55801410e-09]\n",
    "# 4      [-5.93492823e-08 -6.60869469e-09]\n",
    "# 5      [-5.93492967e-08 -6.60869663e-09]\n",
    "# 6      [-5.93492942e-08 -6.60869631e-09]"
   ]
  },
  {
   "cell_type": "code",
   "execution_count": 19,
   "metadata": {},
   "outputs": [
    {
     "data": {
      "image/png": "[encoded data removed]",
      "text/plain": [
       "<Figure size 720x720 with 4 Axes>"
      ]
     },
     "metadata": {},
     "output_type": "display_data"
    }
   ],
   "source": [
    "# Plot final phase space\n",
    "final_phase_space, ax = plt.subplots(2, 2, figsize=(10, 10))\n",
    "scale = 1e3\n",
    "\n",
    "ax.flat[0].scatter(particles[:, 0] * scale, particles[:, 2] * scale)\n",
    "ax.flat[1].scatter(particles[:, 0] * scale, particles[:, 1] * scale)\n",
    "ax.flat[2].scatter(particles[:, 2] * scale, particles[:, 3] * scale)\n",
    "ax.flat[3].scatter(particles[:, 1] * scale, particles[:, 3] * scale)\n",
    "\n",
    "plt.show()"
   ]
  },
  {
   "cell_type": "code",
   "execution_count": 20,
   "metadata": {},
   "outputs": [],
   "source": [
    "tracks = h5.File('particles.h5', 'r')\n",
    "tracks = tracks['coords'][()].transpose()"
   ]
  },
  {
   "cell_type": "code",
   "execution_count": 24,
   "metadata": {},
   "outputs": [
    {
     "data": {
      "image/png": "[encoded data removed]",
      "text/plain": [
       "<Figure size 720x720 with 4 Axes>"
      ]
     },
     "metadata": {},
     "output_type": "display_data"
    }
   ],
   "source": [
    "# Plot particle 0 trajectory turn-by-turn\n",
    "poincare_plot, ax = plt.subplots(2, 2, figsize=(10, 10))\n",
    "\n",
    "ax.flat[0].scatter(tracks[:, 0] * scale, tracks[:, 2] * scale)\n",
    "ax.flat[1].scatter(tracks[:, 0] * scale, tracks[:, 1] * scale)\n",
    "ax.flat[2].scatter(tracks[:, 2] * scale, tracks[:, 3] * scale)\n",
    "ax.flat[3].scatter(tracks[:, 1] * scale, tracks[:, 3] * scale)\n",
    "\n",
    "plt.show()"
   ]
  },
  {
   "cell_type": "code",
   "execution_count": null,
   "metadata": {},
   "outputs": [],
   "source": []
  }
 ],
 "metadata": {
  "kernelspec": {
   "display_name": "Python 2",
   "language": "python",
   "name": "py2"
  },
  "language_info": {
   "codemirror_mode": {
    "name": "ipython",
    "version": 2
   },
   "file_extension": ".py",
   "mimetype": "text/x-python",
   "name": "python",
   "nbconvert_exporter": "python",
   "pygments_lexer": "ipython2",
   "version": "2.7.14"
  }
 },
 "nbformat": 4,
 "nbformat_minor": 2
}
